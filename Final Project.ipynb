{
 "cells": [
  {
   "cell_type": "markdown",
   "metadata": {},
   "source": [
    "# About the problem\n",
    "    The problem chosen is to predict the outcome of an Starcraft match being the outcome whether \n",
    "    player 1 is the winner or not.\n",
    "# About the dataset\n",
    "    The dataset contains 374793 rows and 10 columns\n",
    "## Features\n",
    "    match_date            : Date of match in format mm/dd/yyyy\n",
    "    player_1              : Player 1 Nickname\n",
    "    player_1_match_status : Match status for Player 1: winner or loser\n",
    "    score                 : match score (example: 1-0, 1-2 etc)\n",
    "    player_2              : Player 2 Nickname\n",
    "    player_2_match_status : Match status for Player 2: winner or loser\n",
    "    player_1_race         : Player 1 Race: Z - Zerg, P - Protoss, T - Terran\n",
    "    player_2_race         : Player 2 Race: Z - Zerg, P - Protoss, T - Terran\n",
    "    addon                 : WoL- Wings of Liberty, HotS - Heart of the Swarm, LotV - Legacy of the Void\n",
    "    tournament_type       : online or offline"
   ]
  },
  {
   "cell_type": "code",
   "execution_count": 1,
   "metadata": {},
   "outputs": [],
   "source": [
    "import pandas as pd\n",
    "import numpy as np\n",
    "from matplotlib import pyplot as plt\n",
    "%matplotlib inline\n",
    "\n",
    "#modelos para calculo#\n",
    "from sklearn import metrics as mt, preprocessing as pp, ensemble\n",
    "from sklearn.model_selection import StratifiedKFold, train_test_split, GridSearchCV\n",
    "from sklearn.linear_model import LogisticRegression\n",
    "from sklearn.neighbors import KNeighborsRegressor\n",
    "from sklearn.naive_bayes import GaussianNB\n",
    "from sklearn.svm import SVC\n",
    "import xgboost as xgb\n",
    "import warnings\n",
    "warnings.filterwarnings(\"ignore\")"
   ]
  },
  {
   "cell_type": "code",
   "execution_count": 2,
   "metadata": {},
   "outputs": [],
   "source": [
    "data = pd.read_csv('dataset/sc2-matches-history.csv', header=0)"
   ]
  },
  {
   "cell_type": "code",
   "execution_count": 3,
   "metadata": {},
   "outputs": [
    {
     "data": {
      "text/html": [
       "<div>\n",
       "<style scoped>\n",
       "    .dataframe tbody tr th:only-of-type {\n",
       "        vertical-align: middle;\n",
       "    }\n",
       "\n",
       "    .dataframe tbody tr th {\n",
       "        vertical-align: top;\n",
       "    }\n",
       "\n",
       "    .dataframe thead th {\n",
       "        text-align: right;\n",
       "    }\n",
       "</style>\n",
       "<table border=\"1\" class=\"dataframe\">\n",
       "  <thead>\n",
       "    <tr style=\"text-align: right;\">\n",
       "      <th></th>\n",
       "      <th>match_date</th>\n",
       "      <th>player_1</th>\n",
       "      <th>player_1_match_status</th>\n",
       "      <th>score</th>\n",
       "      <th>player_2</th>\n",
       "      <th>player_2_match_status</th>\n",
       "      <th>player_1_race</th>\n",
       "      <th>player_2_race</th>\n",
       "      <th>addon</th>\n",
       "      <th>tournament_type</th>\n",
       "    </tr>\n",
       "  </thead>\n",
       "  <tbody>\n",
       "    <tr>\n",
       "      <th>0</th>\n",
       "      <td>09/19/2016</td>\n",
       "      <td>MC</td>\n",
       "      <td>[loser]</td>\n",
       "      <td>0–2</td>\n",
       "      <td>Stats</td>\n",
       "      <td>[winner]</td>\n",
       "      <td>P</td>\n",
       "      <td>P</td>\n",
       "      <td>LotV</td>\n",
       "      <td>online</td>\n",
       "    </tr>\n",
       "    <tr>\n",
       "      <th>1</th>\n",
       "      <td>09/19/2016</td>\n",
       "      <td>MC</td>\n",
       "      <td>[winner]</td>\n",
       "      <td>2–1</td>\n",
       "      <td>NaTuRal</td>\n",
       "      <td>[loser]</td>\n",
       "      <td>P</td>\n",
       "      <td>T</td>\n",
       "      <td>LotV</td>\n",
       "      <td>online</td>\n",
       "    </tr>\n",
       "    <tr>\n",
       "      <th>2</th>\n",
       "      <td>09/19/2016</td>\n",
       "      <td>MC</td>\n",
       "      <td>[loser]</td>\n",
       "      <td>1–2</td>\n",
       "      <td>Dark</td>\n",
       "      <td>[winner]</td>\n",
       "      <td>P</td>\n",
       "      <td>Z</td>\n",
       "      <td>LotV</td>\n",
       "      <td>online</td>\n",
       "    </tr>\n",
       "    <tr>\n",
       "      <th>3</th>\n",
       "      <td>09/13/2016</td>\n",
       "      <td>MC</td>\n",
       "      <td>[loser]</td>\n",
       "      <td>0–2</td>\n",
       "      <td>INnoVation</td>\n",
       "      <td>[winner]</td>\n",
       "      <td>P</td>\n",
       "      <td>T</td>\n",
       "      <td>LotV</td>\n",
       "      <td>online</td>\n",
       "    </tr>\n",
       "    <tr>\n",
       "      <th>4</th>\n",
       "      <td>08/27/2016</td>\n",
       "      <td>MC</td>\n",
       "      <td>[loser]</td>\n",
       "      <td>0–1</td>\n",
       "      <td>TRUE</td>\n",
       "      <td>[winner]</td>\n",
       "      <td>P</td>\n",
       "      <td>Z</td>\n",
       "      <td>LotV</td>\n",
       "      <td>online</td>\n",
       "    </tr>\n",
       "  </tbody>\n",
       "</table>\n",
       "</div>"
      ],
      "text/plain": [
       "   match_date player_1 player_1_match_status score    player_2  \\\n",
       "0  09/19/2016       MC               [loser]   0–2       Stats   \n",
       "1  09/19/2016       MC              [winner]   2–1     NaTuRal   \n",
       "2  09/19/2016       MC               [loser]   1–2        Dark   \n",
       "3  09/13/2016       MC               [loser]   0–2  INnoVation   \n",
       "4  08/27/2016       MC               [loser]   0–1        TRUE   \n",
       "\n",
       "  player_2_match_status player_1_race player_2_race addon tournament_type  \n",
       "0              [winner]             P             P  LotV          online  \n",
       "1               [loser]             P             T  LotV          online  \n",
       "2              [winner]             P             Z  LotV          online  \n",
       "3              [winner]             P             T  LotV          online  \n",
       "4              [winner]             P             Z  LotV          online  "
      ]
     },
     "execution_count": 3,
     "metadata": {},
     "output_type": "execute_result"
    }
   ],
   "source": [
    "data.head()"
   ]
  },
  {
   "cell_type": "markdown",
   "metadata": {},
   "source": [
    "# What to do?\n",
    "    - match_date           : apply feature extraction\n",
    "    - player_1             : unique id\n",
    "    - player_1_match_status: binary\n",
    "    - score                : this feature is not going to be used.\n",
    "    - player_2             : unique id\n",
    "    - player_2_match_status: this feature is not going to be used.\n",
    "    - player_1_race        : apply one hot encoding\n",
    "    - player_2_race        : apply one hot encoding\n",
    "    - addon                : apply one hot encoding\n",
    "    - tournament_type      : binary"
   ]
  },
  {
   "cell_type": "markdown",
   "metadata": {},
   "source": [
    "## drop null rows"
   ]
  },
  {
   "cell_type": "code",
   "execution_count": 4,
   "metadata": {},
   "outputs": [
    {
     "data": {
      "text/plain": [
       "match_date               0\n",
       "player_1                 0\n",
       "player_1_match_status    0\n",
       "score                    0\n",
       "player_2                 1\n",
       "player_2_match_status    0\n",
       "player_1_race            0\n",
       "player_2_race            0\n",
       "addon                    0\n",
       "tournament_type          0\n",
       "dtype: int64"
      ]
     },
     "execution_count": 4,
     "metadata": {},
     "output_type": "execute_result"
    }
   ],
   "source": [
    "data.isnull().sum()"
   ]
  },
  {
   "cell_type": "code",
   "execution_count": 5,
   "metadata": {},
   "outputs": [],
   "source": [
    "data = data.dropna(axis=0)"
   ]
  },
  {
   "cell_type": "code",
   "execution_count": 6,
   "metadata": {},
   "outputs": [
    {
     "data": {
      "text/plain": [
       "match_date               0\n",
       "player_1                 0\n",
       "player_1_match_status    0\n",
       "score                    0\n",
       "player_2                 0\n",
       "player_2_match_status    0\n",
       "player_1_race            0\n",
       "player_2_race            0\n",
       "addon                    0\n",
       "tournament_type          0\n",
       "dtype: int64"
      ]
     },
     "execution_count": 6,
     "metadata": {},
     "output_type": "execute_result"
    }
   ],
   "source": [
    "data.isnull().sum()"
   ]
  },
  {
   "cell_type": "markdown",
   "metadata": {},
   "source": [
    "## Preprocessing data"
   ]
  },
  {
   "cell_type": "markdown",
   "metadata": {},
   "source": [
    "### Adding column 'day_of_week' based on 'match_date' and dropping 'match_date' and 'score'"
   ]
  },
  {
   "cell_type": "code",
   "execution_count": 7,
   "metadata": {},
   "outputs": [],
   "source": [
    "#Transformar match_date em dia da semana\n",
    "data['match_date'] = pd.to_datetime(data['match_date'])\n",
    "data['day_of_week'] = data['match_date'].dt.weekday_name"
   ]
  },
  {
   "cell_type": "code",
   "execution_count": 8,
   "metadata": {},
   "outputs": [],
   "source": [
    "data = data.drop(columns='match_date', axis=1)\n",
    "data = data.drop(columns='score', axis=1)"
   ]
  },
  {
   "cell_type": "code",
   "execution_count": 9,
   "metadata": {},
   "outputs": [
    {
     "data": {
      "text/html": [
       "<div>\n",
       "<style scoped>\n",
       "    .dataframe tbody tr th:only-of-type {\n",
       "        vertical-align: middle;\n",
       "    }\n",
       "\n",
       "    .dataframe tbody tr th {\n",
       "        vertical-align: top;\n",
       "    }\n",
       "\n",
       "    .dataframe thead th {\n",
       "        text-align: right;\n",
       "    }\n",
       "</style>\n",
       "<table border=\"1\" class=\"dataframe\">\n",
       "  <thead>\n",
       "    <tr style=\"text-align: right;\">\n",
       "      <th></th>\n",
       "      <th>player_1</th>\n",
       "      <th>player_1_match_status</th>\n",
       "      <th>player_2</th>\n",
       "      <th>player_2_match_status</th>\n",
       "      <th>player_1_race</th>\n",
       "      <th>player_2_race</th>\n",
       "      <th>addon</th>\n",
       "      <th>tournament_type</th>\n",
       "      <th>day_of_week</th>\n",
       "    </tr>\n",
       "  </thead>\n",
       "  <tbody>\n",
       "    <tr>\n",
       "      <th>0</th>\n",
       "      <td>MC</td>\n",
       "      <td>[loser]</td>\n",
       "      <td>Stats</td>\n",
       "      <td>[winner]</td>\n",
       "      <td>P</td>\n",
       "      <td>P</td>\n",
       "      <td>LotV</td>\n",
       "      <td>online</td>\n",
       "      <td>Monday</td>\n",
       "    </tr>\n",
       "    <tr>\n",
       "      <th>1</th>\n",
       "      <td>MC</td>\n",
       "      <td>[winner]</td>\n",
       "      <td>NaTuRal</td>\n",
       "      <td>[loser]</td>\n",
       "      <td>P</td>\n",
       "      <td>T</td>\n",
       "      <td>LotV</td>\n",
       "      <td>online</td>\n",
       "      <td>Monday</td>\n",
       "    </tr>\n",
       "    <tr>\n",
       "      <th>2</th>\n",
       "      <td>MC</td>\n",
       "      <td>[loser]</td>\n",
       "      <td>Dark</td>\n",
       "      <td>[winner]</td>\n",
       "      <td>P</td>\n",
       "      <td>Z</td>\n",
       "      <td>LotV</td>\n",
       "      <td>online</td>\n",
       "      <td>Monday</td>\n",
       "    </tr>\n",
       "    <tr>\n",
       "      <th>3</th>\n",
       "      <td>MC</td>\n",
       "      <td>[loser]</td>\n",
       "      <td>INnoVation</td>\n",
       "      <td>[winner]</td>\n",
       "      <td>P</td>\n",
       "      <td>T</td>\n",
       "      <td>LotV</td>\n",
       "      <td>online</td>\n",
       "      <td>Tuesday</td>\n",
       "    </tr>\n",
       "    <tr>\n",
       "      <th>4</th>\n",
       "      <td>MC</td>\n",
       "      <td>[loser]</td>\n",
       "      <td>TRUE</td>\n",
       "      <td>[winner]</td>\n",
       "      <td>P</td>\n",
       "      <td>Z</td>\n",
       "      <td>LotV</td>\n",
       "      <td>online</td>\n",
       "      <td>Saturday</td>\n",
       "    </tr>\n",
       "  </tbody>\n",
       "</table>\n",
       "</div>"
      ],
      "text/plain": [
       "  player_1 player_1_match_status    player_2 player_2_match_status  \\\n",
       "0       MC               [loser]       Stats              [winner]   \n",
       "1       MC              [winner]     NaTuRal               [loser]   \n",
       "2       MC               [loser]        Dark              [winner]   \n",
       "3       MC               [loser]  INnoVation              [winner]   \n",
       "4       MC               [loser]        TRUE              [winner]   \n",
       "\n",
       "  player_1_race player_2_race addon tournament_type day_of_week  \n",
       "0             P             P  LotV          online      Monday  \n",
       "1             P             T  LotV          online      Monday  \n",
       "2             P             Z  LotV          online      Monday  \n",
       "3             P             T  LotV          online     Tuesday  \n",
       "4             P             Z  LotV          online    Saturday  "
      ]
     },
     "execution_count": 9,
     "metadata": {},
     "output_type": "execute_result"
    }
   ],
   "source": [
    "data.head()"
   ]
  },
  {
   "cell_type": "markdown",
   "metadata": {},
   "source": [
    "### Transforming 'player_1_match_status' and 'tournament_type' into binary and dropping 'player_2_match_status'"
   ]
  },
  {
   "cell_type": "code",
   "execution_count": 10,
   "metadata": {},
   "outputs": [],
   "source": [
    "transform_p1_match_status = {label: idx for idx, label in enumerate(np.unique(data['player_1_match_status']))}\n",
    "data['player_1_match_status'] = data['player_1_match_status'].map(transform_p1_match_status)"
   ]
  },
  {
   "cell_type": "code",
   "execution_count": 11,
   "metadata": {},
   "outputs": [],
   "source": [
    "transform_tournament_type = {label: idx for idx, label in enumerate(np.unique(data['tournament_type']))}\n",
    "data['tournament_type'] = data['tournament_type'].map(transform_tournament_type)"
   ]
  },
  {
   "cell_type": "code",
   "execution_count": 12,
   "metadata": {},
   "outputs": [],
   "source": [
    "data = data.drop(['player_2_match_status'], axis=1)"
   ]
  },
  {
   "cell_type": "code",
   "execution_count": 13,
   "metadata": {},
   "outputs": [
    {
     "data": {
      "text/html": [
       "<div>\n",
       "<style scoped>\n",
       "    .dataframe tbody tr th:only-of-type {\n",
       "        vertical-align: middle;\n",
       "    }\n",
       "\n",
       "    .dataframe tbody tr th {\n",
       "        vertical-align: top;\n",
       "    }\n",
       "\n",
       "    .dataframe thead th {\n",
       "        text-align: right;\n",
       "    }\n",
       "</style>\n",
       "<table border=\"1\" class=\"dataframe\">\n",
       "  <thead>\n",
       "    <tr style=\"text-align: right;\">\n",
       "      <th></th>\n",
       "      <th>player_1</th>\n",
       "      <th>player_1_match_status</th>\n",
       "      <th>player_2</th>\n",
       "      <th>player_1_race</th>\n",
       "      <th>player_2_race</th>\n",
       "      <th>addon</th>\n",
       "      <th>tournament_type</th>\n",
       "      <th>day_of_week</th>\n",
       "    </tr>\n",
       "  </thead>\n",
       "  <tbody>\n",
       "    <tr>\n",
       "      <th>0</th>\n",
       "      <td>MC</td>\n",
       "      <td>0</td>\n",
       "      <td>Stats</td>\n",
       "      <td>P</td>\n",
       "      <td>P</td>\n",
       "      <td>LotV</td>\n",
       "      <td>1</td>\n",
       "      <td>Monday</td>\n",
       "    </tr>\n",
       "    <tr>\n",
       "      <th>1</th>\n",
       "      <td>MC</td>\n",
       "      <td>1</td>\n",
       "      <td>NaTuRal</td>\n",
       "      <td>P</td>\n",
       "      <td>T</td>\n",
       "      <td>LotV</td>\n",
       "      <td>1</td>\n",
       "      <td>Monday</td>\n",
       "    </tr>\n",
       "    <tr>\n",
       "      <th>2</th>\n",
       "      <td>MC</td>\n",
       "      <td>0</td>\n",
       "      <td>Dark</td>\n",
       "      <td>P</td>\n",
       "      <td>Z</td>\n",
       "      <td>LotV</td>\n",
       "      <td>1</td>\n",
       "      <td>Monday</td>\n",
       "    </tr>\n",
       "    <tr>\n",
       "      <th>3</th>\n",
       "      <td>MC</td>\n",
       "      <td>0</td>\n",
       "      <td>INnoVation</td>\n",
       "      <td>P</td>\n",
       "      <td>T</td>\n",
       "      <td>LotV</td>\n",
       "      <td>1</td>\n",
       "      <td>Tuesday</td>\n",
       "    </tr>\n",
       "    <tr>\n",
       "      <th>4</th>\n",
       "      <td>MC</td>\n",
       "      <td>0</td>\n",
       "      <td>TRUE</td>\n",
       "      <td>P</td>\n",
       "      <td>Z</td>\n",
       "      <td>LotV</td>\n",
       "      <td>1</td>\n",
       "      <td>Saturday</td>\n",
       "    </tr>\n",
       "  </tbody>\n",
       "</table>\n",
       "</div>"
      ],
      "text/plain": [
       "  player_1  player_1_match_status    player_2 player_1_race player_2_race  \\\n",
       "0       MC                      0       Stats             P             P   \n",
       "1       MC                      1     NaTuRal             P             T   \n",
       "2       MC                      0        Dark             P             Z   \n",
       "3       MC                      0  INnoVation             P             T   \n",
       "4       MC                      0        TRUE             P             Z   \n",
       "\n",
       "  addon  tournament_type day_of_week  \n",
       "0  LotV                1      Monday  \n",
       "1  LotV                1      Monday  \n",
       "2  LotV                1      Monday  \n",
       "3  LotV                1     Tuesday  \n",
       "4  LotV                1    Saturday  "
      ]
     },
     "execution_count": 13,
     "metadata": {},
     "output_type": "execute_result"
    }
   ],
   "source": [
    "data.head()"
   ]
  },
  {
   "cell_type": "markdown",
   "metadata": {},
   "source": [
    "### Transforming \"player_1\" and \"player_2\" columns into unique numbers"
   ]
  },
  {
   "cell_type": "code",
   "execution_count": 14,
   "metadata": {},
   "outputs": [],
   "source": [
    "#transform_players = {label: idx for idx, label in enumerate(np.unique(data['player_2']))}\n",
    "#transform_players\n",
    "\n",
    "transform_players = {label: idx for idx, label in enumerate(np.unique(data[['player_1', 'player_2']].values))}\n",
    "data['player_1'] = data['player_1'].map(transform_players)\n",
    "data['player_2'] = data['player_2'].map(transform_players)"
   ]
  },
  {
   "cell_type": "code",
   "execution_count": 15,
   "metadata": {},
   "outputs": [
    {
     "data": {
      "text/plain": [
       "player_1                 0\n",
       "player_1_match_status    0\n",
       "player_2                 0\n",
       "player_1_race            0\n",
       "player_2_race            0\n",
       "addon                    0\n",
       "tournament_type          0\n",
       "day_of_week              0\n",
       "dtype: int64"
      ]
     },
     "execution_count": 15,
     "metadata": {},
     "output_type": "execute_result"
    }
   ],
   "source": [
    "data.isnull().sum()"
   ]
  },
  {
   "cell_type": "code",
   "execution_count": 16,
   "metadata": {},
   "outputs": [
    {
     "data": {
      "text/html": [
       "<div>\n",
       "<style scoped>\n",
       "    .dataframe tbody tr th:only-of-type {\n",
       "        vertical-align: middle;\n",
       "    }\n",
       "\n",
       "    .dataframe tbody tr th {\n",
       "        vertical-align: top;\n",
       "    }\n",
       "\n",
       "    .dataframe thead th {\n",
       "        text-align: right;\n",
       "    }\n",
       "</style>\n",
       "<table border=\"1\" class=\"dataframe\">\n",
       "  <thead>\n",
       "    <tr style=\"text-align: right;\">\n",
       "      <th></th>\n",
       "      <th>player_1</th>\n",
       "      <th>player_1_match_status</th>\n",
       "      <th>player_2</th>\n",
       "      <th>player_1_race</th>\n",
       "      <th>player_2_race</th>\n",
       "      <th>addon</th>\n",
       "      <th>tournament_type</th>\n",
       "      <th>day_of_week</th>\n",
       "    </tr>\n",
       "  </thead>\n",
       "  <tbody>\n",
       "    <tr>\n",
       "      <th>0</th>\n",
       "      <td>4450</td>\n",
       "      <td>0</td>\n",
       "      <td>7328</td>\n",
       "      <td>P</td>\n",
       "      <td>P</td>\n",
       "      <td>LotV</td>\n",
       "      <td>1</td>\n",
       "      <td>Monday</td>\n",
       "    </tr>\n",
       "    <tr>\n",
       "      <th>1</th>\n",
       "      <td>4450</td>\n",
       "      <td>1</td>\n",
       "      <td>5125</td>\n",
       "      <td>P</td>\n",
       "      <td>T</td>\n",
       "      <td>LotV</td>\n",
       "      <td>1</td>\n",
       "      <td>Monday</td>\n",
       "    </tr>\n",
       "    <tr>\n",
       "      <th>2</th>\n",
       "      <td>4450</td>\n",
       "      <td>0</td>\n",
       "      <td>1575</td>\n",
       "      <td>P</td>\n",
       "      <td>Z</td>\n",
       "      <td>LotV</td>\n",
       "      <td>1</td>\n",
       "      <td>Monday</td>\n",
       "    </tr>\n",
       "    <tr>\n",
       "      <th>3</th>\n",
       "      <td>4450</td>\n",
       "      <td>0</td>\n",
       "      <td>3270</td>\n",
       "      <td>P</td>\n",
       "      <td>T</td>\n",
       "      <td>LotV</td>\n",
       "      <td>1</td>\n",
       "      <td>Tuesday</td>\n",
       "    </tr>\n",
       "    <tr>\n",
       "      <th>4</th>\n",
       "      <td>4450</td>\n",
       "      <td>0</td>\n",
       "      <td>7548</td>\n",
       "      <td>P</td>\n",
       "      <td>Z</td>\n",
       "      <td>LotV</td>\n",
       "      <td>1</td>\n",
       "      <td>Saturday</td>\n",
       "    </tr>\n",
       "  </tbody>\n",
       "</table>\n",
       "</div>"
      ],
      "text/plain": [
       "   player_1  player_1_match_status  player_2 player_1_race player_2_race  \\\n",
       "0      4450                      0      7328             P             P   \n",
       "1      4450                      1      5125             P             T   \n",
       "2      4450                      0      1575             P             Z   \n",
       "3      4450                      0      3270             P             T   \n",
       "4      4450                      0      7548             P             Z   \n",
       "\n",
       "  addon  tournament_type day_of_week  \n",
       "0  LotV                1      Monday  \n",
       "1  LotV                1      Monday  \n",
       "2  LotV                1      Monday  \n",
       "3  LotV                1     Tuesday  \n",
       "4  LotV                1    Saturday  "
      ]
     },
     "execution_count": 16,
     "metadata": {},
     "output_type": "execute_result"
    }
   ],
   "source": [
    "data.head()"
   ]
  },
  {
   "cell_type": "markdown",
   "metadata": {},
   "source": [
    "### One Hot Enconding with Pandas"
   ]
  },
  {
   "cell_type": "code",
   "execution_count": 17,
   "metadata": {},
   "outputs": [],
   "source": [
    "data = pd.get_dummies(data[['player_1', 'player_1_match_status', 'player_2', 'player_1_race', 'player_2_race', 'addon', 'tournament_type', 'day_of_week']], drop_first=True)"
   ]
  },
  {
   "cell_type": "code",
   "execution_count": 18,
   "metadata": {},
   "outputs": [
    {
     "data": {
      "text/html": [
       "<div>\n",
       "<style scoped>\n",
       "    .dataframe tbody tr th:only-of-type {\n",
       "        vertical-align: middle;\n",
       "    }\n",
       "\n",
       "    .dataframe tbody tr th {\n",
       "        vertical-align: top;\n",
       "    }\n",
       "\n",
       "    .dataframe thead th {\n",
       "        text-align: right;\n",
       "    }\n",
       "</style>\n",
       "<table border=\"1\" class=\"dataframe\">\n",
       "  <thead>\n",
       "    <tr style=\"text-align: right;\">\n",
       "      <th></th>\n",
       "      <th>player_1</th>\n",
       "      <th>player_1_match_status</th>\n",
       "      <th>player_2</th>\n",
       "      <th>tournament_type</th>\n",
       "      <th>player_1_race_R</th>\n",
       "      <th>player_1_race_T</th>\n",
       "      <th>player_1_race_Z</th>\n",
       "      <th>player_2_race_R</th>\n",
       "      <th>player_2_race_T</th>\n",
       "      <th>player_2_race_Z</th>\n",
       "      <th>addon_LotV</th>\n",
       "      <th>addon_WoL</th>\n",
       "      <th>day_of_week_Monday</th>\n",
       "      <th>day_of_week_Saturday</th>\n",
       "      <th>day_of_week_Sunday</th>\n",
       "      <th>day_of_week_Thursday</th>\n",
       "      <th>day_of_week_Tuesday</th>\n",
       "      <th>day_of_week_Wednesday</th>\n",
       "    </tr>\n",
       "  </thead>\n",
       "  <tbody>\n",
       "    <tr>\n",
       "      <th>0</th>\n",
       "      <td>4450</td>\n",
       "      <td>0</td>\n",
       "      <td>7328</td>\n",
       "      <td>1</td>\n",
       "      <td>0</td>\n",
       "      <td>0</td>\n",
       "      <td>0</td>\n",
       "      <td>0</td>\n",
       "      <td>0</td>\n",
       "      <td>0</td>\n",
       "      <td>1</td>\n",
       "      <td>0</td>\n",
       "      <td>1</td>\n",
       "      <td>0</td>\n",
       "      <td>0</td>\n",
       "      <td>0</td>\n",
       "      <td>0</td>\n",
       "      <td>0</td>\n",
       "    </tr>\n",
       "    <tr>\n",
       "      <th>1</th>\n",
       "      <td>4450</td>\n",
       "      <td>1</td>\n",
       "      <td>5125</td>\n",
       "      <td>1</td>\n",
       "      <td>0</td>\n",
       "      <td>0</td>\n",
       "      <td>0</td>\n",
       "      <td>0</td>\n",
       "      <td>1</td>\n",
       "      <td>0</td>\n",
       "      <td>1</td>\n",
       "      <td>0</td>\n",
       "      <td>1</td>\n",
       "      <td>0</td>\n",
       "      <td>0</td>\n",
       "      <td>0</td>\n",
       "      <td>0</td>\n",
       "      <td>0</td>\n",
       "    </tr>\n",
       "    <tr>\n",
       "      <th>2</th>\n",
       "      <td>4450</td>\n",
       "      <td>0</td>\n",
       "      <td>1575</td>\n",
       "      <td>1</td>\n",
       "      <td>0</td>\n",
       "      <td>0</td>\n",
       "      <td>0</td>\n",
       "      <td>0</td>\n",
       "      <td>0</td>\n",
       "      <td>1</td>\n",
       "      <td>1</td>\n",
       "      <td>0</td>\n",
       "      <td>1</td>\n",
       "      <td>0</td>\n",
       "      <td>0</td>\n",
       "      <td>0</td>\n",
       "      <td>0</td>\n",
       "      <td>0</td>\n",
       "    </tr>\n",
       "    <tr>\n",
       "      <th>3</th>\n",
       "      <td>4450</td>\n",
       "      <td>0</td>\n",
       "      <td>3270</td>\n",
       "      <td>1</td>\n",
       "      <td>0</td>\n",
       "      <td>0</td>\n",
       "      <td>0</td>\n",
       "      <td>0</td>\n",
       "      <td>1</td>\n",
       "      <td>0</td>\n",
       "      <td>1</td>\n",
       "      <td>0</td>\n",
       "      <td>0</td>\n",
       "      <td>0</td>\n",
       "      <td>0</td>\n",
       "      <td>0</td>\n",
       "      <td>1</td>\n",
       "      <td>0</td>\n",
       "    </tr>\n",
       "    <tr>\n",
       "      <th>4</th>\n",
       "      <td>4450</td>\n",
       "      <td>0</td>\n",
       "      <td>7548</td>\n",
       "      <td>1</td>\n",
       "      <td>0</td>\n",
       "      <td>0</td>\n",
       "      <td>0</td>\n",
       "      <td>0</td>\n",
       "      <td>0</td>\n",
       "      <td>1</td>\n",
       "      <td>1</td>\n",
       "      <td>0</td>\n",
       "      <td>0</td>\n",
       "      <td>1</td>\n",
       "      <td>0</td>\n",
       "      <td>0</td>\n",
       "      <td>0</td>\n",
       "      <td>0</td>\n",
       "    </tr>\n",
       "  </tbody>\n",
       "</table>\n",
       "</div>"
      ],
      "text/plain": [
       "   player_1  player_1_match_status  player_2  tournament_type  \\\n",
       "0      4450                      0      7328                1   \n",
       "1      4450                      1      5125                1   \n",
       "2      4450                      0      1575                1   \n",
       "3      4450                      0      3270                1   \n",
       "4      4450                      0      7548                1   \n",
       "\n",
       "   player_1_race_R  player_1_race_T  player_1_race_Z  player_2_race_R  \\\n",
       "0                0                0                0                0   \n",
       "1                0                0                0                0   \n",
       "2                0                0                0                0   \n",
       "3                0                0                0                0   \n",
       "4                0                0                0                0   \n",
       "\n",
       "   player_2_race_T  player_2_race_Z  addon_LotV  addon_WoL  \\\n",
       "0                0                0           1          0   \n",
       "1                1                0           1          0   \n",
       "2                0                1           1          0   \n",
       "3                1                0           1          0   \n",
       "4                0                1           1          0   \n",
       "\n",
       "   day_of_week_Monday  day_of_week_Saturday  day_of_week_Sunday  \\\n",
       "0                   1                     0                   0   \n",
       "1                   1                     0                   0   \n",
       "2                   1                     0                   0   \n",
       "3                   0                     0                   0   \n",
       "4                   0                     1                   0   \n",
       "\n",
       "   day_of_week_Thursday  day_of_week_Tuesday  day_of_week_Wednesday  \n",
       "0                     0                    0                      0  \n",
       "1                     0                    0                      0  \n",
       "2                     0                    0                      0  \n",
       "3                     0                    1                      0  \n",
       "4                     0                    0                      0  "
      ]
     },
     "execution_count": 18,
     "metadata": {},
     "output_type": "execute_result"
    }
   ],
   "source": [
    "data.head()"
   ]
  },
  {
   "cell_type": "markdown",
   "metadata": {},
   "source": [
    "### Rearranging columns"
   ]
  },
  {
   "cell_type": "code",
   "execution_count": 19,
   "metadata": {},
   "outputs": [],
   "source": [
    "#cols = data.columns.tolist()\n",
    "data = data[['player_1',\n",
    "             'player_2',\n",
    "             'tournament_type',\n",
    "             'player_1_race_R',\n",
    "             'player_1_race_T',\n",
    "             'player_1_race_Z',\n",
    "             'player_2_race_R',\n",
    "             'player_2_race_T',\n",
    "             'player_2_race_Z',\n",
    "             'addon_LotV',\n",
    "             'addon_WoL',\n",
    "             'day_of_week_Monday',\n",
    "             'day_of_week_Saturday',\n",
    "             'day_of_week_Sunday',\n",
    "             'day_of_week_Thursday',\n",
    "             'day_of_week_Tuesday',\n",
    "             'day_of_week_Wednesday',\n",
    "             'player_1_match_status']]"
   ]
  },
  {
   "cell_type": "code",
   "execution_count": 20,
   "metadata": {},
   "outputs": [
    {
     "data": {
      "text/html": [
       "<div>\n",
       "<style scoped>\n",
       "    .dataframe tbody tr th:only-of-type {\n",
       "        vertical-align: middle;\n",
       "    }\n",
       "\n",
       "    .dataframe tbody tr th {\n",
       "        vertical-align: top;\n",
       "    }\n",
       "\n",
       "    .dataframe thead th {\n",
       "        text-align: right;\n",
       "    }\n",
       "</style>\n",
       "<table border=\"1\" class=\"dataframe\">\n",
       "  <thead>\n",
       "    <tr style=\"text-align: right;\">\n",
       "      <th></th>\n",
       "      <th>player_1</th>\n",
       "      <th>player_2</th>\n",
       "      <th>tournament_type</th>\n",
       "      <th>player_1_race_R</th>\n",
       "      <th>player_1_race_T</th>\n",
       "      <th>player_1_race_Z</th>\n",
       "      <th>player_2_race_R</th>\n",
       "      <th>player_2_race_T</th>\n",
       "      <th>player_2_race_Z</th>\n",
       "      <th>addon_LotV</th>\n",
       "      <th>addon_WoL</th>\n",
       "      <th>day_of_week_Monday</th>\n",
       "      <th>day_of_week_Saturday</th>\n",
       "      <th>day_of_week_Sunday</th>\n",
       "      <th>day_of_week_Thursday</th>\n",
       "      <th>day_of_week_Tuesday</th>\n",
       "      <th>day_of_week_Wednesday</th>\n",
       "      <th>player_1_match_status</th>\n",
       "    </tr>\n",
       "  </thead>\n",
       "  <tbody>\n",
       "    <tr>\n",
       "      <th>0</th>\n",
       "      <td>4450</td>\n",
       "      <td>7328</td>\n",
       "      <td>1</td>\n",
       "      <td>0</td>\n",
       "      <td>0</td>\n",
       "      <td>0</td>\n",
       "      <td>0</td>\n",
       "      <td>0</td>\n",
       "      <td>0</td>\n",
       "      <td>1</td>\n",
       "      <td>0</td>\n",
       "      <td>1</td>\n",
       "      <td>0</td>\n",
       "      <td>0</td>\n",
       "      <td>0</td>\n",
       "      <td>0</td>\n",
       "      <td>0</td>\n",
       "      <td>0</td>\n",
       "    </tr>\n",
       "    <tr>\n",
       "      <th>1</th>\n",
       "      <td>4450</td>\n",
       "      <td>5125</td>\n",
       "      <td>1</td>\n",
       "      <td>0</td>\n",
       "      <td>0</td>\n",
       "      <td>0</td>\n",
       "      <td>0</td>\n",
       "      <td>1</td>\n",
       "      <td>0</td>\n",
       "      <td>1</td>\n",
       "      <td>0</td>\n",
       "      <td>1</td>\n",
       "      <td>0</td>\n",
       "      <td>0</td>\n",
       "      <td>0</td>\n",
       "      <td>0</td>\n",
       "      <td>0</td>\n",
       "      <td>1</td>\n",
       "    </tr>\n",
       "    <tr>\n",
       "      <th>2</th>\n",
       "      <td>4450</td>\n",
       "      <td>1575</td>\n",
       "      <td>1</td>\n",
       "      <td>0</td>\n",
       "      <td>0</td>\n",
       "      <td>0</td>\n",
       "      <td>0</td>\n",
       "      <td>0</td>\n",
       "      <td>1</td>\n",
       "      <td>1</td>\n",
       "      <td>0</td>\n",
       "      <td>1</td>\n",
       "      <td>0</td>\n",
       "      <td>0</td>\n",
       "      <td>0</td>\n",
       "      <td>0</td>\n",
       "      <td>0</td>\n",
       "      <td>0</td>\n",
       "    </tr>\n",
       "    <tr>\n",
       "      <th>3</th>\n",
       "      <td>4450</td>\n",
       "      <td>3270</td>\n",
       "      <td>1</td>\n",
       "      <td>0</td>\n",
       "      <td>0</td>\n",
       "      <td>0</td>\n",
       "      <td>0</td>\n",
       "      <td>1</td>\n",
       "      <td>0</td>\n",
       "      <td>1</td>\n",
       "      <td>0</td>\n",
       "      <td>0</td>\n",
       "      <td>0</td>\n",
       "      <td>0</td>\n",
       "      <td>0</td>\n",
       "      <td>1</td>\n",
       "      <td>0</td>\n",
       "      <td>0</td>\n",
       "    </tr>\n",
       "    <tr>\n",
       "      <th>4</th>\n",
       "      <td>4450</td>\n",
       "      <td>7548</td>\n",
       "      <td>1</td>\n",
       "      <td>0</td>\n",
       "      <td>0</td>\n",
       "      <td>0</td>\n",
       "      <td>0</td>\n",
       "      <td>0</td>\n",
       "      <td>1</td>\n",
       "      <td>1</td>\n",
       "      <td>0</td>\n",
       "      <td>0</td>\n",
       "      <td>1</td>\n",
       "      <td>0</td>\n",
       "      <td>0</td>\n",
       "      <td>0</td>\n",
       "      <td>0</td>\n",
       "      <td>0</td>\n",
       "    </tr>\n",
       "  </tbody>\n",
       "</table>\n",
       "</div>"
      ],
      "text/plain": [
       "   player_1  player_2  tournament_type  player_1_race_R  player_1_race_T  \\\n",
       "0      4450      7328                1                0                0   \n",
       "1      4450      5125                1                0                0   \n",
       "2      4450      1575                1                0                0   \n",
       "3      4450      3270                1                0                0   \n",
       "4      4450      7548                1                0                0   \n",
       "\n",
       "   player_1_race_Z  player_2_race_R  player_2_race_T  player_2_race_Z  \\\n",
       "0                0                0                0                0   \n",
       "1                0                0                1                0   \n",
       "2                0                0                0                1   \n",
       "3                0                0                1                0   \n",
       "4                0                0                0                1   \n",
       "\n",
       "   addon_LotV  addon_WoL  day_of_week_Monday  day_of_week_Saturday  \\\n",
       "0           1          0                   1                     0   \n",
       "1           1          0                   1                     0   \n",
       "2           1          0                   1                     0   \n",
       "3           1          0                   0                     0   \n",
       "4           1          0                   0                     1   \n",
       "\n",
       "   day_of_week_Sunday  day_of_week_Thursday  day_of_week_Tuesday  \\\n",
       "0                   0                     0                    0   \n",
       "1                   0                     0                    0   \n",
       "2                   0                     0                    0   \n",
       "3                   0                     0                    1   \n",
       "4                   0                     0                    0   \n",
       "\n",
       "   day_of_week_Wednesday  player_1_match_status  \n",
       "0                      0                      0  \n",
       "1                      0                      1  \n",
       "2                      0                      0  \n",
       "3                      0                      0  \n",
       "4                      0                      0  "
      ]
     },
     "execution_count": 20,
     "metadata": {},
     "output_type": "execute_result"
    }
   ],
   "source": [
    "data.head()"
   ]
  },
  {
   "cell_type": "markdown",
   "metadata": {},
   "source": [
    "### New dataset\n",
    "    - match_date           : não existe mais\n",
    "    - score                : não existe mais\n",
    "    - player_2_match_status: não existe mais\n",
    "    ------------------------------------------------------------------\n",
    "    - player_1             : OK\n",
    "    - player_1_match_status: OK\n",
    "    - player_2             : OK\n",
    "    - player_1_race        : OK\n",
    "    - player_2_race        : OK\n",
    "    - addon                : OK\n",
    "    - tournament_type      : OK\n",
    "    - day_of_week          : OK"
   ]
  },
  {
   "cell_type": "markdown",
   "metadata": {},
   "source": [
    "# Final part - Testing the dataset with some algorithms"
   ]
  },
  {
   "cell_type": "markdown",
   "metadata": {},
   "source": [
    "### Setting X and y"
   ]
  },
  {
   "cell_type": "code",
   "execution_count": 21,
   "metadata": {},
   "outputs": [],
   "source": [
    "X = data.iloc[:, 0:17].values\n",
    "y = data.iloc[:, 17].values"
   ]
  },
  {
   "cell_type": "code",
   "execution_count": 35,
   "metadata": {},
   "outputs": [],
   "source": [
    "X_train, X_test, y_train, y_test = train_test_split(X, y, test_size=0.9, random_state=42)\n",
    "\n",
    "stdzer = pp.MinMaxScaler().fit(X_train)\n",
    "X_train_std = stdzer.transform(X_train)\n",
    "X_test_std = stdzer.transform(X_test)"
   ]
  },
  {
   "cell_type": "markdown",
   "metadata": {},
   "source": [
    "## Looking for the best parameters for Random Forest Classifier"
   ]
  },
  {
   "cell_type": "code",
   "execution_count": 32,
   "metadata": {},
   "outputs": [
    {
     "name": "stdout",
     "output_type": "stream",
     "text": [
      "{'max_depth': 11, 'n_estimators': 300}\n"
     ]
    }
   ],
   "source": [
    "model_rf = ensemble.RandomForestClassifier(random_state=42)\n",
    "\n",
    "n_estimators = [200, 300]\n",
    "max_depth = [7, 9, 11]\n",
    "\n",
    "param_grid = {'n_estimators': n_estimators, \n",
    "              'max_depth': max_depth}\n",
    "\n",
    "gs = GridSearchCV(estimator=model_rf, param_grid=param_grid, scoring='neg_mean_squared_error', cv=10, n_jobs=-1)\n",
    "gs = gs.fit(X_train_std, y_train)\n",
    "\n",
    "print(gs.best_params_)"
   ]
  },
  {
   "cell_type": "markdown",
   "metadata": {},
   "source": [
    "## Looking for the best parameters for Gradient Boosting Classifier"
   ]
  },
  {
   "cell_type": "code",
   "execution_count": 37,
   "metadata": {},
   "outputs": [
    {
     "name": "stdout",
     "output_type": "stream",
     "text": [
      "{'learning_rate': 0.1, 'max_depth': 7, 'n_estimators': 300}\n"
     ]
    }
   ],
   "source": [
    "model_gb = ensemble.GradientBoostingClassifier(random_state=42)\n",
    "\n",
    "n_estimators = [200, 300]\n",
    "max_depth = [7, 9, 11]\n",
    "learning_rate = [0.1, 0.5, 0.7]\n",
    "\n",
    "param_grid = {'n_estimators': n_estimators, \n",
    "              'max_depth': max_depth, \n",
    "              'learning_rate': learning_rate}\n",
    "\n",
    "gs = GridSearchCV(estimator=model_gb, param_grid=param_grid, scoring='neg_mean_squared_error', cv=10, n_jobs=-1)\n",
    "gs = gs.fit(X_train_std, y_train)\n",
    "\n",
    "print(gs.best_params_)"
   ]
  },
  {
   "cell_type": "markdown",
   "metadata": {},
   "source": [
    "## Looking for the best parameters for XGB Classifier"
   ]
  },
  {
   "cell_type": "code",
   "execution_count": 39,
   "metadata": {},
   "outputs": [
    {
     "name": "stdout",
     "output_type": "stream",
     "text": [
      "{'learning_rate': 0.1, 'max_depth': 7, 'n_estimators': 300}\n"
     ]
    }
   ],
   "source": [
    "model_xgb = xgb.XGBClassifier(random_state=42)\n",
    "n_estimators = [200, 300]\n",
    "max_depth = [7, 9, 11]\n",
    "learning_rate = [0.1, 0.5, 0.7]\n",
    "\n",
    "param_grid = {'n_estimators': n_estimators, \n",
    "              'max_depth': max_depth, \n",
    "              'learning_rate': learning_rate}\n",
    "\n",
    "gs = GridSearchCV(estimator=model_xgb, param_grid=param_grid, scoring='neg_mean_squared_error', cv=10, n_jobs=-1)\n",
    "gs = gs.fit(X_train_std, y_train)\n",
    "\n",
    "print(gs.best_params_)"
   ]
  },
  {
   "cell_type": "markdown",
   "metadata": {},
   "source": [
    "# Testing the parameters found with the final dataset"
   ]
  },
  {
   "cell_type": "markdown",
   "metadata": {},
   "source": [
    "### Normalizing the final dataset"
   ]
  },
  {
   "cell_type": "code",
   "execution_count": 40,
   "metadata": {},
   "outputs": [],
   "source": [
    "X_trainf, X_testf, y_trainf, y_testf = train_test_split(X, y, test_size=0.25, random_state=42)\n",
    "\n",
    "stdzer = pp.MinMaxScaler().fit(X_trainf)\n",
    "X_train_stdf = stdzer.transform(X_trainf)\n",
    "X_test_stdf = stdzer.transform(X_testf)"
   ]
  },
  {
   "cell_type": "markdown",
   "metadata": {},
   "source": [
    "### Random Forest Classifier"
   ]
  },
  {
   "cell_type": "code",
   "execution_count": 41,
   "metadata": {},
   "outputs": [],
   "source": [
    "final_rf = ensemble.RandomForestClassifier(random_state=42, n_estimators=300, max_depth=11)\n",
    "final_rf.fit(X_train_stdf, y_trainf)\n",
    "y_pred_rf = final_rf.predict(X_test_stdf)\n",
    "rf_acc = mt.accuracy_score(y_testf, y_pred_rf)"
   ]
  },
  {
   "cell_type": "markdown",
   "metadata": {},
   "source": [
    "### Gradient Boosting Classifier"
   ]
  },
  {
   "cell_type": "code",
   "execution_count": 42,
   "metadata": {},
   "outputs": [],
   "source": [
    "final_gbr = ensemble.GradientBoostingClassifier(random_state=42,\n",
    "                                               learning_rate=0.1, n_estimators=300, max_depth=7)\n",
    "final_gbr.fit(X_train_stdf, y_trainf)\n",
    "y_pred_gbr = final_gbr.predict(X_test_stdf)\n",
    "gbr_acc = mt.accuracy_score(y_testf, y_pred_gbr)"
   ]
  },
  {
   "cell_type": "markdown",
   "metadata": {},
   "source": [
    "### XGBoost Classifier"
   ]
  },
  {
   "cell_type": "code",
   "execution_count": 43,
   "metadata": {},
   "outputs": [],
   "source": [
    "final_xgb = xgb.XGBClassifier(random_state=42, learning_rate=0.1, n_estimators=300, max_depth=7)\n",
    "final_xgb.fit(X_train_stdf, y_trainf)\n",
    "y_pred_xgb = final_xgb.predict(X_test_stdf)\n",
    "xgb_acc = mt.accuracy_score(y_testf, y_pred_xgb)"
   ]
  },
  {
   "cell_type": "markdown",
   "metadata": {},
   "source": [
    "# Final results"
   ]
  },
  {
   "cell_type": "code",
   "execution_count": 44,
   "metadata": {},
   "outputs": [
    {
     "name": "stdout",
     "output_type": "stream",
     "text": [
      "The result for the Random Forest Classifier is: 0.5617989519632013\n",
      "The result for the Gradient Boosting Classifier is: 0.6632728204143054\n",
      "The result for the XGBoost Classifier is: 0.6619494338253343\n"
     ]
    },
    {
     "data": {
      "image/png": "[encoded data removed]",
      "text/plain": [
       "<matplotlib.figure.Figure at 0x7f8ab41b7a20>"
      ]
     },
     "metadata": {},
     "output_type": "display_data"
    }
   ],
   "source": [
    "class_names = ['Random Forest Classifier', 'Gradient Boosting Classifier', 'XGBoost Classifier']\n",
    "class_values = [rf_acc, gbr_acc, xgb_acc]\n",
    "\n",
    "plt.rcParams['figure.figsize'] = (11,7)\n",
    "plt.grid()\n",
    "plt.ylabel('Accuracy Score')\n",
    "for i in range(len(class_names)):\n",
    "    print(\"The result for the \" + str(class_names[i]) + \" is: \" + str(class_values[i]))\n",
    "    plt.bar(class_names[i], class_values[i], width=0.7)\n",
    "plt.show()"
   ]
  },
  {
   "cell_type": "markdown",
   "metadata": {},
   "source": [
    "# Conclusions\n",
    "    Although the Gradient Boosting ended as the best one of the three algorithms tested the difference \n",
    "    was not that big. With an accuracy of 66% (66.32), the Gradient Boosting surpassed the XGBoost only \n",
    "    for 0,0013%.\n",
    "    \n",
    "## What can be improved?"
   ]
  }
 ],
 "metadata": {
  "kernelspec": {
   "display_name": "Python 3",
   "language": "python",
   "name": "python3"
  },
  "language_info": {
   "codemirror_mode": {
    "name": "ipython",
    "version": 3
   },
   "file_extension": ".py",
   "mimetype": "text/x-python",
   "name": "python",
   "nbconvert_exporter": "python",
   "pygments_lexer": "ipython3",
   "version": "3.6.4"
  }
 },
 "nbformat": 4,
 "nbformat_minor": 2
}
